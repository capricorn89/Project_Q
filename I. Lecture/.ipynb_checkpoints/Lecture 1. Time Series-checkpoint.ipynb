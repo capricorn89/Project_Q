{
 "cells": [
  {
   "cell_type": "markdown",
   "metadata": {},
   "source": [
    "### 시계열 데이터 분석 with Pandas\n",
    "\n",
    "참고 : https://github.com/lovablebaby/DataScience/blob/master/%5BPython%5DpyconTutorial_2018/.ipynb_checkpoints/timeSeriesAnalysis-checkpoint.ipynb\n",
    "\n",
    "- Time series with pandas\n",
    "- 시계열 데이터 특성\n",
    "- ETS 모델\n",
    "- EWMA 모델\n",
    "\n",
    "시계열 데이터는 시간 데이터를 인덱스로 하는 연속된 데이터임. 데이터 자체를 DateTime타입으로 바꿔서 작업하게 됨.\n",
    "\n",
    "- DateTime : 시간이나 날짜 정보는 인덱스인 경우가 많고, 통일도 잘 안되있는 경우가 더러 있음. 판다스에 내장된 기능들로 DateTime으로 다룸\n",
    "\n",
    "#### time resampling\n",
    "시계열 데이터 인덱스는 작은 단위로도 이루어진 경우도 있음. 더 넓은 주기로 집계하기 위해서 Time Resampling 이 필요함.\n",
    "\n",
    "Groupby로도 가능하지만 비즈니스 도메인에서 분기나 회계년도를 편리하게 처리할 떄는 그런 방법은 안 된다. 판다스는 이런 경우에 활용할 수 있는 프리퀀시 샘플링 도구를 지원.\n",
    "\n",
    "나라마다 주말이 다를 수도 있기 때문에 계산할 때도 타임 리샘플링을 하면 편리하게 사용할 수 있음\n",
    "\n",
    "#### Rolling and Expanding\n",
    "\n",
    "매일 수집한 데이터에는 노이즈가 있어서 일반적인 트렌드를 구하기 위해서 롤링민 / 무빙 평균을 사용한다.\n",
    "\n",
    "롤링 함수를 이용해서 주어진 시한 내 평균등을 구할 수 있습니다.\n",
    "\n",
    "임의 시간 간격의 window를 만들고 그 안에서 평균 등의 통계적 aggregation을 실행.\n",
    "\n",
    "볼린저 밴드(Bollinger Band)"
   ]
  },
  {
   "cell_type": "code",
   "execution_count": 1,
   "metadata": {},
   "outputs": [],
   "source": [
    "import numpy as np\n",
    "import pandas as pd\n",
    "import matplotlib.pyplot as plt\n",
    "from datetime import datetime"
   ]
  },
  {
   "cell_type": "code",
   "execution_count": 3,
   "metadata": {},
   "outputs": [],
   "source": [
    "pycon_year = 2018\n",
    "pycon_month = 8\n",
    "pycon_day = 17\n",
    "pycon_hour = 14\n",
    "pycon_minute = 26\n",
    "pycon_second = 20"
   ]
  },
  {
   "cell_type": "code",
   "execution_count": 4,
   "metadata": {},
   "outputs": [],
   "source": [
    "pycon_date = datetime(pycon_year, pycon_month, pycon_day, pycon_hour, pycon_minute, pycon_second)"
   ]
  },
  {
   "cell_type": "code",
   "execution_count": 5,
   "metadata": {},
   "outputs": [
    {
     "data": {
      "text/plain": [
       "datetime.datetime(2018, 8, 17, 14, 26, 20)"
      ]
     },
     "execution_count": 5,
     "metadata": {},
     "output_type": "execute_result"
    }
   ],
   "source": [
    "pycon_date"
   ]
  },
  {
   "cell_type": "code",
   "execution_count": 7,
   "metadata": {},
   "outputs": [
    {
     "data": {
      "text/plain": [
       "[datetime.datetime(2018, 8, 18, 0, 0), datetime.datetime(2019, 8, 19, 0, 0)]"
      ]
     },
     "execution_count": 7,
     "metadata": {},
     "output_type": "execute_result"
    }
   ],
   "source": [
    "main_dates = [datetime(2018, 8, 18), datetime(2019,8,19)]\n",
    "main_dates"
   ]
  },
  {
   "cell_type": "code",
   "execution_count": 8,
   "metadata": {},
   "outputs": [
    {
     "data": {
      "text/plain": [
       "DatetimeIndex(['2018-08-18', '2019-08-19'], dtype='datetime64[ns]', freq=None)"
      ]
     },
     "execution_count": 8,
     "metadata": {},
     "output_type": "execute_result"
    }
   ],
   "source": [
    "dt_ind = pd.DatetimeIndex(main_dates)\n",
    "dt_ind"
   ]
  },
  {
   "cell_type": "code",
   "execution_count": 9,
   "metadata": {},
   "outputs": [
    {
     "name": "stdout",
     "output_type": "stream",
     "text": [
      "[[-0.96829056 -0.05133336]\n",
      " [ 0.39527124 -0.28793067]]\n"
     ]
    }
   ],
   "source": [
    "data = np.random.randn(2, 2)\n",
    "print(data)"
   ]
  },
  {
   "cell_type": "code",
   "execution_count": 10,
   "metadata": {},
   "outputs": [
    {
     "data": {
      "text/html": [
       "<div>\n",
       "<style scoped>\n",
       "    .dataframe tbody tr th:only-of-type {\n",
       "        vertical-align: middle;\n",
       "    }\n",
       "\n",
       "    .dataframe tbody tr th {\n",
       "        vertical-align: top;\n",
       "    }\n",
       "\n",
       "    .dataframe thead th {\n",
       "        text-align: right;\n",
       "    }\n",
       "</style>\n",
       "<table border=\"1\" class=\"dataframe\">\n",
       "  <thead>\n",
       "    <tr style=\"text-align: right;\">\n",
       "      <th></th>\n",
       "      <th>A</th>\n",
       "      <th>B</th>\n",
       "    </tr>\n",
       "  </thead>\n",
       "  <tbody>\n",
       "    <tr>\n",
       "      <th>2018-08-18</th>\n",
       "      <td>-0.968291</td>\n",
       "      <td>-0.051333</td>\n",
       "    </tr>\n",
       "    <tr>\n",
       "      <th>2019-08-19</th>\n",
       "      <td>0.395271</td>\n",
       "      <td>-0.287931</td>\n",
       "    </tr>\n",
       "  </tbody>\n",
       "</table>\n",
       "</div>"
      ],
      "text/plain": [
       "                   A         B\n",
       "2018-08-18 -0.968291 -0.051333\n",
       "2019-08-19  0.395271 -0.287931"
      ]
     },
     "execution_count": 10,
     "metadata": {},
     "output_type": "execute_result"
    }
   ],
   "source": [
    "df = pd.DataFrame(data, dt_ind, ['A','B'])\n",
    "df"
   ]
  },
  {
   "cell_type": "code",
   "execution_count": 11,
   "metadata": {},
   "outputs": [
    {
     "data": {
      "text/plain": [
       "DatetimeIndex(['2018-08-18', '2019-08-19'], dtype='datetime64[ns]', freq=None)"
      ]
     },
     "execution_count": 11,
     "metadata": {},
     "output_type": "execute_result"
    }
   ],
   "source": [
    "df.index"
   ]
  },
  {
   "cell_type": "code",
   "execution_count": 12,
   "metadata": {},
   "outputs": [
    {
     "data": {
      "text/plain": [
       "1"
      ]
     },
     "execution_count": 12,
     "metadata": {},
     "output_type": "execute_result"
    }
   ],
   "source": [
    "df.index.argmax()"
   ]
  },
  {
   "cell_type": "markdown",
   "metadata": {},
   "source": [
    "### Time Resampling\n",
    "\n",
    "이전에 Anaconda prompt 에서 Quandl 설치, Quandl API를 받아야 주가데이터를 받아올수있음"
   ]
  },
  {
   "cell_type": "code",
   "execution_count": 33,
   "metadata": {},
   "outputs": [],
   "source": [
    "import quandl\n",
    "quandl.ApiConfig.api_key = \"4_QsK3sYLPGC7b6SCKQX\""
   ]
  },
  {
   "cell_type": "code",
   "execution_count": 30,
   "metadata": {},
   "outputs": [],
   "source": [
    "data = quandl.get([\"UMICH/SOC1\", \"MULTPL/SP500_PE_RATIO_MONTH\"])\n",
    "# University of Michigan Consumer Survey, Index of Consumer Sentiment\n",
    "# S&P 500 PE Ratio by Month"
   ]
  },
  {
   "cell_type": "code",
   "execution_count": 31,
   "metadata": {},
   "outputs": [
    {
     "data": {
      "text/html": [
       "<div>\n",
       "<style scoped>\n",
       "    .dataframe tbody tr th:only-of-type {\n",
       "        vertical-align: middle;\n",
       "    }\n",
       "\n",
       "    .dataframe tbody tr th {\n",
       "        vertical-align: top;\n",
       "    }\n",
       "\n",
       "    .dataframe thead th {\n",
       "        text-align: right;\n",
       "    }\n",
       "</style>\n",
       "<table border=\"1\" class=\"dataframe\">\n",
       "  <thead>\n",
       "    <tr style=\"text-align: right;\">\n",
       "      <th></th>\n",
       "      <th>UMICH/SOC1 - Index</th>\n",
       "      <th>MULTPL/SP500_PE_RATIO_MONTH - Value</th>\n",
       "    </tr>\n",
       "    <tr>\n",
       "      <th>Date</th>\n",
       "      <th></th>\n",
       "      <th></th>\n",
       "    </tr>\n",
       "  </thead>\n",
       "  <tbody>\n",
       "    <tr>\n",
       "      <th>1871-01-01</th>\n",
       "      <td>NaN</td>\n",
       "      <td>11.10</td>\n",
       "    </tr>\n",
       "    <tr>\n",
       "      <th>1871-02-01</th>\n",
       "      <td>NaN</td>\n",
       "      <td>11.25</td>\n",
       "    </tr>\n",
       "    <tr>\n",
       "      <th>1871-03-01</th>\n",
       "      <td>NaN</td>\n",
       "      <td>11.52</td>\n",
       "    </tr>\n",
       "    <tr>\n",
       "      <th>1871-04-01</th>\n",
       "      <td>NaN</td>\n",
       "      <td>11.85</td>\n",
       "    </tr>\n",
       "    <tr>\n",
       "      <th>1871-05-01</th>\n",
       "      <td>NaN</td>\n",
       "      <td>12.15</td>\n",
       "    </tr>\n",
       "  </tbody>\n",
       "</table>\n",
       "</div>"
      ],
      "text/plain": [
       "            UMICH/SOC1 - Index  MULTPL/SP500_PE_RATIO_MONTH - Value\n",
       "Date                                                               \n",
       "1871-01-01                 NaN                                11.10\n",
       "1871-02-01                 NaN                                11.25\n",
       "1871-03-01                 NaN                                11.52\n",
       "1871-04-01                 NaN                                11.85\n",
       "1871-05-01                 NaN                                12.15"
      ]
     },
     "execution_count": 31,
     "metadata": {},
     "output_type": "execute_result"
    }
   ],
   "source": [
    "data.head()"
   ]
  },
  {
   "cell_type": "code",
   "execution_count": null,
   "metadata": {},
   "outputs": [],
   "source": [
    "data.columns = ['Consumer_senti', 'SP500_PER']\n",
    "data.to_excel('sampleData.xlsx')"
   ]
  },
  {
   "cell_type": "code",
   "execution_count": null,
   "metadata": {},
   "outputs": [],
   "source": []
  }
 ],
 "metadata": {
  "kernelspec": {
   "display_name": "Python 3",
   "language": "python",
   "name": "python3"
  },
  "language_info": {
   "codemirror_mode": {
    "name": "ipython",
    "version": 3
   },
   "file_extension": ".py",
   "mimetype": "text/x-python",
   "name": "python",
   "nbconvert_exporter": "python",
   "pygments_lexer": "ipython3",
   "version": "3.7.1"
  }
 },
 "nbformat": 4,
 "nbformat_minor": 2
}
